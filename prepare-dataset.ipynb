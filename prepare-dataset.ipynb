{
 "cells": [
  {
   "cell_type": "code",
   "execution_count": 9,
   "metadata": {},
   "outputs": [],
   "source": [
    "import os\n",
    "import shutil\n",
    "import random\n",
    "\n",
    "# Define the paths\n",
    "source_folder = r'C:\\Users\\pablo\\Downloads\\pokemon'\n",
    "train_folder = r'dataset\\train'\n",
    "validation_folder = r'dataset\\validation'\n",
    "\n",
    "# Create the train and validation folders if they don't exist\n",
    "os.makedirs(train_folder, exist_ok=True)\n",
    "os.makedirs(validation_folder, exist_ok=True)\n"
   ]
  },
  {
   "cell_type": "code",
   "execution_count": 10,
   "metadata": {},
   "outputs": [
    {
     "name": "stdout",
     "output_type": "stream",
     "text": [
      "Dataset split into train and validation folders successfully!\n"
     ]
    }
   ],
   "source": [
    "# Iterate over each class folder\n",
    "for class_name in os.listdir(source_folder):\n",
    "    class_path = os.path.join(source_folder, class_name)\n",
    "    if os.path.isdir(class_path):\n",
    "        # Create corresponding class folders in train and validation folders\n",
    "        os.makedirs(os.path.join(train_folder, class_name), exist_ok=True)\n",
    "        os.makedirs(os.path.join(validation_folder, class_name), exist_ok=True)\n",
    "        \n",
    "        # Get list of image files\n",
    "        images = os.listdir(class_path)\n",
    "        \n",
    "        # Shuffle the images\n",
    "        random.shuffle(images)\n",
    "        \n",
    "        # Split the images into train and validation sets\n",
    "        num_images = len(images)\n",
    "        num_validation = num_images // 5  # One every five images\n",
    "        validation_set = images[:num_validation]\n",
    "        train_set = images[num_validation:]\n",
    "        \n",
    "        # Copy images to train folder\n",
    "        for image in train_set:\n",
    "            src = os.path.join(class_path, image)\n",
    "            dst = os.path.join(train_folder, class_name, image)\n",
    "            shutil.copy(src, dst)\n",
    "        \n",
    "        # Copy images to validation folder\n",
    "        for image in validation_set:\n",
    "            src = os.path.join(class_path, image)\n",
    "            dst = os.path.join(validation_folder, class_name, image)\n",
    "            shutil.copy(src, dst)\n",
    "\n",
    "print(\"Dataset split into train and validation folders successfully!\")"
   ]
  }
 ],
 "metadata": {
  "kernelspec": {
   "display_name": "ML",
   "language": "python",
   "name": "python3"
  },
  "language_info": {
   "codemirror_mode": {
    "name": "ipython",
    "version": 3
   },
   "file_extension": ".py",
   "mimetype": "text/x-python",
   "name": "python",
   "nbconvert_exporter": "python",
   "pygments_lexer": "ipython3",
   "version": "3.11.5"
  }
 },
 "nbformat": 4,
 "nbformat_minor": 2
}
